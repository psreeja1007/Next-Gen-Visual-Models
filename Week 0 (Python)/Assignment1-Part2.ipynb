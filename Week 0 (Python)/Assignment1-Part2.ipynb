{
 "cells": [
  {
   "cell_type": "markdown",
   "metadata": {
    "id": "C37tJ2x7tpS-"
   },
   "source": [
    "# **Ask Yourself :**\n",
    "- Difference between Supervised learning Unsupervised learning and Reinforcement Learning\n",
    "- Difference between Machine learning and Deep learning\n",
    "\n",
    "Write below what you have learnt from them. Their potential use-cases etc. (PS: Don't write their definitions)"
   ]
  },
  {
   "cell_type": "markdown",
   "metadata": {},
   "source": [
    "\n",
    "- **Supervised learning**  is used when the data is divided into well defined groups\n",
    "\n",
    "- **Unsupervised learning** is used when we have to search for patterns or clusters among given data \n",
    "\n",
    "- **Reinforcement learning** is used in situations where something is simulated like a game, a car etc.., it's like trial and error\n",
    "\n",
    "- **Machine Learning** is used when our data is more structured like excels,csvs etc.. \n",
    "\n",
    "- **Deep Learning** is used when our data is unstructured like audio,images etc.."
   ]
  },
  {
   "cell_type": "markdown",
   "metadata": {
    "id": "t0cYPf4kt9_L"
   },
   "source": [
    "**Write a function to check whether the number is Palindrome or not.**  \n",
    "- Hopefully who have did this in c++ in yor CS101"
   ]
  },
  {
   "cell_type": "code",
   "execution_count": 5,
   "metadata": {
    "id": "oWBHDgbquM1p"
   },
   "outputs": [
    {
     "name": "stdout",
     "output_type": "stream",
     "text": [
      "False\n"
     ]
    }
   ],
   "source": [
    "def checkIfPalindrome(s):\n",
    "    return s == s[::-1] and checkIfPalindrome(s[1:-1]) if len(s) > 1 else True\n",
    "\n",
    "def checkIfNumPalindrome(num):\n",
    "    return checkIfPalindrome(str(num))\n",
    "\n",
    "num = 1030030301\n",
    "print(checkIfNumPalindrome(num))"
   ]
  },
  {
   "cell_type": "markdown",
   "metadata": {
    "id": "bHfCcuG3uAww"
   },
   "source": [
    "\n",
    "Create a NumPy array of 10 random integers between 1 and 100 and calculate the mean, minimum, and maximum values\n"
   ]
  },
  {
   "cell_type": "code",
   "execution_count": 6,
   "metadata": {
    "id": "pVr18sOTuQy6"
   },
   "outputs": [
    {
     "name": "stdout",
     "output_type": "stream",
     "text": [
      "[42 68 50 33 68 77 75 47 13 61]\n",
      "53.4\n",
      "13\n",
      "77\n"
     ]
    }
   ],
   "source": [
    "import numpy as np\n",
    "\n",
    "arr = np.random.randint(0, 100, 10)\n",
    "print(arr)\n",
    "mean = np.mean(arr)\n",
    "print(mean)\n",
    "minimum = np.min(arr)\n",
    "print(minimum)\n",
    "maximum = np.max(arr)\n",
    "print(maximum)"
   ]
  },
  {
   "cell_type": "markdown",
   "metadata": {
    "id": "IjeenGc8uFYK"
   },
   "source": [
    "\n",
    "Create a Pandas DataFrame from a dictionary containing three columns: 'Name', 'Age', and 'City'. Print the DataFrame.\n",
    "filter the rows where the 'Age' is greater than 30 and print the result.\n",
    "Add a new column 'Salary' to the DataFrame created in Exercise 1 with values [50000, 60000, 70000]. Print the updated DataFrame\n",
    "Group the DataFrame by the 'City' column and calculate the average 'Age' for each city. And plot appropriate/required graphs."
   ]
  },
  {
   "cell_type": "code",
   "execution_count": 18,
   "metadata": {
    "id": "-k3GZHcVuRL5"
   },
   "outputs": [
    {
     "name": "stdout",
     "output_type": "stream",
     "text": [
      "Dataframe:\n",
      "       Name  Age          City\n",
      "0    Nathan   59   San Antonio\n",
      "1       Eve   23       Phoenix\n",
      "2    Olivia   14       Phoenix\n",
      "3     Isaac   47  Philadelphia\n",
      "4       Bob   44  Philadelphia\n",
      "5    Sandra   33   San Antonio\n",
      "6     Kevin   26       Chicago\n",
      "7     Frank   23   San Antonio\n",
      "8     Peter   21       Houston\n",
      "9   Charlie   32       Houston\n",
      "10     Devi   37  Philadelphia\n",
      "11   Emilia   60   Los Angeles\n",
      "12     Lily   29     San Diego\n",
      "13   George   42     San Diego\n",
      "14    Henry   26  Philadelphia\n",
      "15      Ron   45   Los Angeles\n",
      "16     Jack   24   San Antonio\n",
      "17   Rachel   31   Los Angeles\n",
      "18    Harry   25       Phoenix\n",
      "19    Gilly   18      New York\n",
      "\n",
      "\n",
      "Filtered Dataframe:\n",
      "       Name  Age          City\n",
      "0    Nathan   59   San Antonio\n",
      "3     Isaac   47  Philadelphia\n",
      "4       Bob   44  Philadelphia\n",
      "5    Sandra   33   San Antonio\n",
      "9   Charlie   32       Houston\n",
      "10     Devi   37  Philadelphia\n",
      "11   Emilia   60   Los Angeles\n",
      "13   George   42     San Diego\n",
      "15      Ron   45   Los Angeles\n",
      "17   Rachel   31   Los Angeles\n"
     ]
    }
   ],
   "source": [
    "import pandas as pd\n",
    "\n",
    "data = {\n",
    "    'Name': ['Nathan', 'Eve', 'Olivia', 'Isaac', 'Bob', 'Sandra', 'Kevin', 'Frank', 'Peter', 'Charlie',\n",
    "             'Devi', 'Emilia', 'Lily', 'George', 'Henry', 'Ron', 'Jack', 'Rachel', 'Harry', 'Gilly'],\n",
    "    \n",
    "    'Age': [59, 23, 14, 47, 44, 33, 26, 23, 21, 32,\n",
    "            37, 60, 29, 42, 26, 45, 24, 31, 25, 18],\n",
    "    \n",
    "    'City': ['San Antonio', 'Phoenix', 'Phoenix', 'Philadelphia', 'Philadelphia', 'San Antonio', 'Chicago', \n",
    "             'San Antonio', 'Houston', 'Houston', 'Philadelphia', 'Los Angeles', 'San Diego', 'San Diego', \n",
    "             'Philadelphia', 'Los Angeles', 'San Antonio', 'Los Angeles', 'Phoenix', 'New York']\n",
    "}\n",
    "\n",
    "df = pd.DataFrame(data, columns=['Name', 'Age', 'City'])\n",
    "\n",
    "print(\"Dataframe:\")\n",
    "print(df)\n",
    "print(\"\\n\")\n",
    "\n",
    "print(\"Filtered Dataframe:\")\n",
    "df_filtered = df[df['Age'] > 30]\n",
    "print(df_filtered)"
   ]
  },
  {
   "cell_type": "code",
   "execution_count": 19,
   "metadata": {},
   "outputs": [
    {
     "name": "stdout",
     "output_type": "stream",
     "text": [
      "       Name  Age          City  Salary\n",
      "0    Nathan   59   San Antonio   50000\n",
      "1       Eve   23       Phoenix   60000\n",
      "2    Olivia   14       Phoenix   50000\n",
      "3     Isaac   47  Philadelphia   70000\n",
      "4       Bob   44  Philadelphia   60000\n",
      "5    Sandra   33   San Antonio   70000\n",
      "6     Kevin   26       Chicago   50000\n",
      "7     Frank   23   San Antonio   60000\n",
      "8     Peter   21       Houston   70000\n",
      "9   Charlie   32       Houston   50000\n",
      "10     Devi   37  Philadelphia   60000\n",
      "11   Emilia   60   Los Angeles   70000\n",
      "12     Lily   29     San Diego   50000\n",
      "13   George   42     San Diego   60000\n",
      "14    Henry   26  Philadelphia   70000\n",
      "15      Ron   45   Los Angeles   50000\n",
      "16     Jack   24   San Antonio   60000\n",
      "17   Rachel   31   Los Angeles   70000\n",
      "18    Harry   25       Phoenix   50000\n",
      "19    Gilly   18      New York   60000\n"
     ]
    }
   ],
   "source": [
    "df['Salary'] = [50000,60000,50000,70000,60000,70000,50000,60000,70000,50000,60000,70000,50000,60000,70000,50000,60000,70000,50000,60000]\n",
    "print(df)"
   ]
  },
  {
   "cell_type": "code",
   "execution_count": 21,
   "metadata": {},
   "outputs": [
    {
     "name": "stdout",
     "output_type": "stream",
     "text": [
      "City\n",
      "Chicago         26.000000\n",
      "Houston         26.500000\n",
      "Los Angeles     45.333333\n",
      "New York        18.000000\n",
      "Philadelphia    38.500000\n",
      "Phoenix         20.666667\n",
      "San Antonio     34.750000\n",
      "San Diego       35.500000\n",
      "Name: Age, dtype: float64\n"
     ]
    }
   ],
   "source": [
    "groups = df.groupby('City')\n",
    "mean_age_per_city = groups['Age'].mean()\n",
    "\n",
    "print(mean_age_per_city)"
   ]
  },
  {
   "cell_type": "code",
   "execution_count": 22,
   "metadata": {},
   "outputs": [
    {
     "data": {
      "image/png": "[encoded data removed]",
      "text/plain": [
       "<Figure size 640x480 with 1 Axes>"
      ]
     },
     "metadata": {},
     "output_type": "display_data"
    }
   ],
   "source": [
    "import matplotlib.pyplot as plt\n",
    "\n",
    "mean_age_per_city.sort_values(inplace=True)\n",
    "\n",
    "mean_age_per_city.plot(kind='bar', color='skyblue', edgecolor='black')\n",
    "plt.title(\"Average Age per City\")\n",
    "plt.xlabel(\"City\")\n",
    "plt.ylabel(\"Average Age\")\n",
    "plt.xticks(rotation=45)\n",
    "plt.show()"
   ]
  }
 ],
 "metadata": {
  "colab": {
   "provenance": [
    {
     "file_id": "1AK3TKo4yGdzjNW36i9QYXw1-CBXwD90I",
     "timestamp": 1717093943506
    }
   ]
  },
  "kernelspec": {
   "display_name": "base",
   "language": "python",
   "name": "python3"
  },
  "language_info": {
   "codemirror_mode": {
    "name": "ipython",
    "version": 3
   },
   "file_extension": ".py",
   "mimetype": "text/x-python",
   "name": "python",
   "nbconvert_exporter": "python",
   "pygments_lexer": "ipython3",
   "version": "3.11.7"
  }
 },
 "nbformat": 4,
 "nbformat_minor": 0
}
