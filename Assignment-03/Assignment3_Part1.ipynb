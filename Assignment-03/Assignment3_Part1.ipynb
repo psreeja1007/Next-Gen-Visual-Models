{
  "nbformat": 4,
  "nbformat_minor": 0,
  "metadata": {
    "colab": {
      "provenance": [],
      "gpuType": "T4"
    },
    "kernelspec": {
      "name": "python3",
      "display_name": "Python 3"
    },
    "language_info": {
      "name": "python"
    },
    "accelerator": "GPU"
  },
  "cells": [
    {
      "cell_type": "code",
      "execution_count": null,
      "metadata": {
        "id": "snNxxkbO-NaN"
      },
      "outputs": [],
      "source": [
        "import tensorflow as tf\n",
        "from tensorflow.keras import layers, models, optimizers, Input\n",
        "from tensorflow.keras.datasets import cifar100\n",
        "import matplotlib.pyplot as plt"
      ]
    },
    {
      "cell_type": "code",
      "source": [
        "# Load and preprocess the CIFAR-100 dataset\n",
        "(x_train, y_train), (x_test, y_test) = cifar100.load_data()\n",
        "x_train, x_test = x_train / 255.0, x_test / 255.0  # Normalize pixel values\n",
        "y_train = tf.keras.utils.to_categorical(y_train, 100)\n",
        "y_test = tf.keras.utils.to_categorical(y_test, 100)"
      ],
      "metadata": {
        "id": "9Wtx7SVQ-SdU"
      },
      "execution_count": null,
      "outputs": []
    },
    {
      "cell_type": "code",
      "source": [
        "IMG_SIZE = 180\n",
        "\n",
        "resize_and_rescale = tf.keras.Sequential([\n",
        "  layers.Resizing(IMG_SIZE, IMG_SIZE),\n",
        "  layers.Rescaling(1./255)\n",
        "])"
      ],
      "metadata": {
        "id": "AOrweKWEBMdX"
      },
      "execution_count": null,
      "outputs": []
    },
    {
      "cell_type": "code",
      "source": [
        "data_augmentation = tf.keras.Sequential([\n",
        "  layers.RandomFlip(\"horizontal_and_vertical\"),\n",
        "  layers.RandomRotation(0.2),\n",
        "])"
      ],
      "metadata": {
        "id": "IHD7Z9HiBN8G"
      },
      "execution_count": null,
      "outputs": []
    },
    {
      "cell_type": "code",
      "source": [
        "# Define the CNN model\n",
        "cnn_model = Sequential([\n",
        "    # Add preprocessing layers\n",
        "    resize_and_rescale,\n",
        "    data_augmentation,\n",
        "\n",
        "    # Input layer\n",
        "    Input(shape=(32, 32, 3)),\n",
        "\n",
        "    # Block 1\n",
        "    layers.Conv2D(16, (3, 3), padding='same', activation=None),\n",
        "    layers.LeakyReLU(negative_slope=0.1),\n",
        "    layers.MaxPooling2D(),\n",
        "\n",
        "    # Block 2\n",
        "    layers.Conv2D(64, (3, 3), activation=None, padding='same'),\n",
        "    layers.LeakyReLU(negative_slope=0.1),\n",
        "    layers.Conv2D(64, (3, 3), activation=None, padding='same'),\n",
        "    layers.LeakyReLU(negative_slope=0.1),\n",
        "    layers.MaxPooling2D((2, 2)),\n",
        "    layers.Dropout(0.25),\n",
        "\n",
        "    # Block 3\n",
        "    layers.Conv2D(128, (3, 3), activation=None, padding='same'),\n",
        "    layers.LeakyReLU(negative_slope=0.1),\n",
        "    layers.Conv2D(128, (3, 3), activation=None, padding='same'),\n",
        "    layers.LeakyReLU(negative_slope=0.1),\n",
        "    layers.MaxPooling2D((2, 2)),\n",
        "    layers.Dropout(0.25),\n",
        "\n",
        "    # Block 4\n",
        "    layers.Conv2D(256, (3, 3), activation=None, padding='same'),\n",
        "    layers.LeakyReLU(negative_slope=0.1),\n",
        "    layers.Conv2D(256, (3, 3), activation=None, padding='same'),\n",
        "    layers.LeakyReLU(negative_slope=0.1),\n",
        "    layers.MaxPooling2D((2, 2)),\n",
        "    layers.Dropout(0.4),\n",
        "\n",
        "    # Fully connected layers\n",
        "    layers.Flatten(),\n",
        "    layers.Dense(512, activation=None),\n",
        "    layers.LeakyReLU(negative_slope=0.1),\n",
        "    layers.Dropout(0.5),\n",
        "    layers.Dense(100, activation='softmax')  # Assuming 100 classes\n",
        "])\n",
        "\n",
        "cnn_model.summary()"
      ],
      "metadata": {
        "id": "I2dTxYahBbG7"
      },
      "execution_count": null,
      "outputs": []
    },
    {
      "cell_type": "code",
      "source": [
        "# Compile the model\n",
        "cnn_model.compile(optimizer=optimizers.Adam(learning_rate=0.001),\n",
        "                  loss='categorical_crossentropy',\n",
        "                  metrics=['accuracy'])"
      ],
      "metadata": {
        "id": "uDA7dOiX-qrj"
      },
      "execution_count": null,
      "outputs": []
    },
    {
      "cell_type": "code",
      "source": [
        "# Train the model\n",
        "history = cnn_model.fit(x_train, y_train, batch_size=64, epochs=50, validation_data=(x_test, y_test))"
      ],
      "metadata": {
        "colab": {
          "base_uri": "https://localhost:8080/"
        },
        "id": "5cdlXr2R-tqK",
        "outputId": "9bb91792-4866-4375-fd3d-53c7ef7dd872"
      },
      "execution_count": null,
      "outputs": [
        {
          "output_type": "stream",
          "name": "stdout",
          "text": [
            "Epoch 1/50\n",
            "\u001b[1m 30/782\u001b[0m \u001b[37m━━━━━━━━━━━━━━━━━━━━\u001b[0m \u001b[1m18:21\u001b[0m 1s/step - accuracy: 0.0075 - loss: 4.6126"
          ]
        }
      ]
    },
    {
      "cell_type": "code",
      "source": [
        "# Evaluate the model\n",
        "test_loss, test_acc = cnn_model.evaluate(x_test, y_test)\n",
        "print(f\"Test Accuracy: {test_acc:.2f}\")"
      ],
      "metadata": {
        "id": "IJDaghLo-w0N"
      },
      "execution_count": null,
      "outputs": []
    },
    {
      "cell_type": "code",
      "source": [
        "# Plot training history\n",
        "plt.figure(figsize=(12, 4))\n",
        "\n",
        "# Accuracy plot\n",
        "plt.subplot(1, 2, 1)\n",
        "plt.plot(history.history['accuracy'], label='Training Accuracy')\n",
        "plt.plot(history.history['val_accuracy'], label='Validation Accuracy')\n",
        "plt.xlabel('Epochs')\n",
        "plt.ylabel('Accuracy')\n",
        "plt.title('Training and Validation Accuracy')\n",
        "plt.legend()\n",
        "\n",
        "# Loss plot\n",
        "plt.subplot(1, 2, 2)\n",
        "plt.plot(history.history['loss'], label='Training Loss')\n",
        "plt.plot(history.history['val_loss'], label='Validation Loss')\n",
        "plt.xlabel('Epochs')\n",
        "plt.ylabel('Loss')\n",
        "plt.title('Training and Validation Loss')\n",
        "plt.legend()\n",
        "\n",
        "plt.tight_layout()\n",
        "plt.show()"
      ],
      "metadata": {
        "id": "fd-2xlIt_k14"
      },
      "execution_count": null,
      "outputs": []
    },
    {
      "cell_type": "code",
      "source": [],
      "metadata": {
        "id": "Nh_jNqZPTgip"
      },
      "execution_count": null,
      "outputs": []
    }
  ]
}